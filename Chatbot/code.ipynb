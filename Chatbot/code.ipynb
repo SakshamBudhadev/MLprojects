{
 "cells": [
  {
   "cell_type": "code",
   "execution_count": 2,
   "metadata": {},
   "outputs": [
    {
     "name": "stderr",
     "output_type": "stream",
     "text": [
      "[nltk_data] Downloading package punkt to\n",
      "[nltk_data]     C:\\Users\\saksh\\AppData\\Roaming\\nltk_data...\n",
      "[nltk_data]   Unzipping tokenizers\\punkt.zip.\n",
      "[nltk_data] Downloading package stopwords to\n",
      "[nltk_data]     C:\\Users\\saksh\\AppData\\Roaming\\nltk_data...\n",
      "[nltk_data]   Unzipping corpora\\stopwords.zip.\n"
     ]
    },
    {
     "ename": "KeyboardInterrupt",
     "evalue": "Interrupted by user",
     "output_type": "error",
     "traceback": [
      "\u001b[1;31m---------------------------------------------------------------------------\u001b[0m",
      "\u001b[1;31mKeyboardInterrupt\u001b[0m                         Traceback (most recent call last)",
      "Cell \u001b[1;32mIn[2], line 68\u001b[0m\n\u001b[0;32m     65\u001b[0m \u001b[39m# Main loop to get user input and generate responses\u001b[39;00m\n\u001b[0;32m     66\u001b[0m \u001b[39m# Main loop to get user input and generate responses\u001b[39;00m\n\u001b[0;32m     67\u001b[0m \u001b[39mwhile\u001b[39;00m \u001b[39mTrue\u001b[39;00m:\n\u001b[1;32m---> 68\u001b[0m     user_input \u001b[39m=\u001b[39m \u001b[39minput\u001b[39;49m(\u001b[39m'\u001b[39;49m\u001b[39mYou: \u001b[39;49m\u001b[39m'\u001b[39;49m)\n\u001b[0;32m     69\u001b[0m     \u001b[39mif\u001b[39;00m user_input\u001b[39m.\u001b[39mlower() \u001b[39m==\u001b[39m \u001b[39m'\u001b[39m\u001b[39mbye\u001b[39m\u001b[39m'\u001b[39m:\n\u001b[0;32m     70\u001b[0m         \u001b[39mprint\u001b[39m(\u001b[39m'\u001b[39m\u001b[39mBot: Goodbye!\u001b[39m\u001b[39m'\u001b[39m)\n",
      "File \u001b[1;32m~\\AppData\\Roaming\\Python\\Python311\\site-packages\\ipykernel\\kernelbase.py:1202\u001b[0m, in \u001b[0;36mKernel.raw_input\u001b[1;34m(self, prompt)\u001b[0m\n\u001b[0;32m   1200\u001b[0m     msg \u001b[39m=\u001b[39m \u001b[39m\"\u001b[39m\u001b[39mraw_input was called, but this frontend does not support input requests.\u001b[39m\u001b[39m\"\u001b[39m\n\u001b[0;32m   1201\u001b[0m     \u001b[39mraise\u001b[39;00m StdinNotImplementedError(msg)\n\u001b[1;32m-> 1202\u001b[0m \u001b[39mreturn\u001b[39;00m \u001b[39mself\u001b[39;49m\u001b[39m.\u001b[39;49m_input_request(\n\u001b[0;32m   1203\u001b[0m     \u001b[39mstr\u001b[39;49m(prompt),\n\u001b[0;32m   1204\u001b[0m     \u001b[39mself\u001b[39;49m\u001b[39m.\u001b[39;49m_parent_ident[\u001b[39m\"\u001b[39;49m\u001b[39mshell\u001b[39;49m\u001b[39m\"\u001b[39;49m],\n\u001b[0;32m   1205\u001b[0m     \u001b[39mself\u001b[39;49m\u001b[39m.\u001b[39;49mget_parent(\u001b[39m\"\u001b[39;49m\u001b[39mshell\u001b[39;49m\u001b[39m\"\u001b[39;49m),\n\u001b[0;32m   1206\u001b[0m     password\u001b[39m=\u001b[39;49m\u001b[39mFalse\u001b[39;49;00m,\n\u001b[0;32m   1207\u001b[0m )\n",
      "File \u001b[1;32m~\\AppData\\Roaming\\Python\\Python311\\site-packages\\ipykernel\\kernelbase.py:1245\u001b[0m, in \u001b[0;36mKernel._input_request\u001b[1;34m(self, prompt, ident, parent, password)\u001b[0m\n\u001b[0;32m   1242\u001b[0m \u001b[39mexcept\u001b[39;00m \u001b[39mKeyboardInterrupt\u001b[39;00m:\n\u001b[0;32m   1243\u001b[0m     \u001b[39m# re-raise KeyboardInterrupt, to truncate traceback\u001b[39;00m\n\u001b[0;32m   1244\u001b[0m     msg \u001b[39m=\u001b[39m \u001b[39m\"\u001b[39m\u001b[39mInterrupted by user\u001b[39m\u001b[39m\"\u001b[39m\n\u001b[1;32m-> 1245\u001b[0m     \u001b[39mraise\u001b[39;00m \u001b[39mKeyboardInterrupt\u001b[39;00m(msg) \u001b[39mfrom\u001b[39;00m \u001b[39mNone\u001b[39;00m\n\u001b[0;32m   1246\u001b[0m \u001b[39mexcept\u001b[39;00m \u001b[39mException\u001b[39;00m:\n\u001b[0;32m   1247\u001b[0m     \u001b[39mself\u001b[39m\u001b[39m.\u001b[39mlog\u001b[39m.\u001b[39mwarning(\u001b[39m\"\u001b[39m\u001b[39mInvalid Message:\u001b[39m\u001b[39m\"\u001b[39m, exc_info\u001b[39m=\u001b[39m\u001b[39mTrue\u001b[39;00m)\n",
      "\u001b[1;31mKeyboardInterrupt\u001b[0m: Interrupted by user"
     ]
    }
   ],
   "source": [
    "import nltk\n",
    "from nltk.tokenize import word_tokenize\n",
    "from nltk.corpus import stopwords\n",
    "from sklearn.feature_extraction.text import TfidfVectorizer\n",
    "from sklearn.metrics.pairwise import cosine_similarity\n",
    "\n",
    "# Sample training data\n",
    "training_data = [\n",
    "    \"Hi, how are you?\",\n",
    "    r\"I'm good. How about you?\",\n",
    "    \"What is your name?\",\n",
    "    r\"My name is Chatbot.\",\n",
    "    \"Tell me a joke.\",\n",
    "    r\"Sure! Why don't scientists trust atoms? Because they make up everything!\",\n",
    "    \"What is the weather like today?\",\n",
    "    r\"I'm sorry, I don't have access to real-time information.\",\n",
    "    \"What are your hobbies?\",\n",
    "    r\"I enjoy learning new things and helping people!\",\n",
    "    \"How old are you?\",\n",
    "    r\"As a chatbot, I don't have an age. I'm here to assist you.\",\n",
    "    # Add more training data examples here\n",
    "]\n",
    "\n",
    "# Initialize the tokenizer and stopwords\n",
    "nltk.download('punkt')\n",
    "nltk.download('stopwords')\n",
    "stop_words = set(stopwords.words('english'))\n",
    "tokenizer = nltk.tokenize.WordPunctTokenizer()\n",
    "\n",
    "# Preprocess the training data\n",
    "preprocessed_data = []\n",
    "for i in range(0, len(training_data), 2):\n",
    "    question = training_data[i]\n",
    "    response = training_data[i + 1]\n",
    "    \n",
    "    question_tokens = tokenizer.tokenize(question.lower())\n",
    "    question_tokens = [token for token in question_tokens if token.isalpha() and token not in stop_words]\n",
    "    preprocessed_data.append(' '.join(question_tokens))\n",
    "\n",
    "    response_tokens = tokenizer.tokenize(response.lower())\n",
    "    response_tokens = [token for token in response_tokens if token.isalpha() and token not in stop_words]\n",
    "    preprocessed_data.append(' '.join(response_tokens))\n",
    "\n",
    "# Initialize the vectorizer and transform the training data\n",
    "vectorizer = TfidfVectorizer()\n",
    "vectorized_data = vectorizer.fit_transform(preprocessed_data)\n",
    "\n",
    "# Function to preprocess user input\n",
    "def preprocess_input(user_input):\n",
    "    tokens = tokenizer.tokenize(user_input.lower())\n",
    "    tokens = [token for token in tokens if token.isalpha() and token not in stop_words]\n",
    "    preprocessed_input = ' '.join(tokens)\n",
    "    return preprocessed_input\n",
    "\n",
    "# Function to generate a response\n",
    "def generate_response(user_input):\n",
    "    preprocessed_input = preprocess_input(user_input)\n",
    "    input_vector = vectorizer.transform([preprocessed_input])\n",
    "    similarity_scores = cosine_similarity(input_vector, vectorized_data)\n",
    "    max_similarity_index = similarity_scores.argmax()\n",
    "    response_index = max_similarity_index // 2\n",
    "    response = training_data[response_index * 2 + 1]\n",
    "    return response\n",
    "\n",
    "# Main loop to get user input and generate responses\n",
    "# Main loop to get user input and generate responses\n",
    "while True:\n",
    "    user_input = input('You: ')\n",
    "    if user_input.lower() == 'bye':\n",
    "        print('Bot: Goodbye!')\n",
    "        break\n",
    "    response = generate_response(user_input)\n",
    "    print('Bot:', response)"
   ]
  }
 ],
 "metadata": {
  "kernelspec": {
   "display_name": "Python 3",
   "language": "python",
   "name": "python3"
  },
  "language_info": {
   "codemirror_mode": {
    "name": "ipython",
    "version": 3
   },
   "file_extension": ".py",
   "mimetype": "text/x-python",
   "name": "python",
   "nbconvert_exporter": "python",
   "pygments_lexer": "ipython3",
   "version": "3.11.4"
  },
  "orig_nbformat": 4
 },
 "nbformat": 4,
 "nbformat_minor": 2
}
